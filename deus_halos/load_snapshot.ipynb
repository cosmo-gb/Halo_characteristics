{
 "cells": [
  {
   "cell_type": "code",
   "execution_count": 1,
   "metadata": {},
   "outputs": [],
   "source": [
    "import numpy as np\n",
    "import pandas as pd\n",
    "import matplotlib.pyplot as plt\n",
    "import struct\n",
    "from typing import BinaryIO\n",
    "from simu_param import Simu_param\n",
    "from find_halo_in_snapshot import Find_halo_in_snapshot"
   ]
  },
  {
   "cell_type": "code",
   "execution_count": 2,
   "metadata": {},
   "outputs": [],
   "source": [
    "path_cube = \"../data/z_0/rpcdm/snapshot/\"\n",
    "name_file = \"fof_boxlen648_n2048_rpcdmw7_cube\"\n",
    "num = 0"
   ]
  },
  {
   "cell_type": "code",
   "execution_count": 3,
   "metadata": {},
   "outputs": [],
   "source": [
    "file = open(path_cube+name_file+'_' +\n",
    "            str('{:d}'.format(num).zfill(5))+\"\", \"rb\")"
   ]
  },
  {
   "cell_type": "code",
   "execution_count": 18,
   "metadata": {},
   "outputs": [],
   "source": [
    "class Read_snapshot(Simu_param):\n",
    "\n",
    "    def __init__(self, cosmo: str, z: float) -> None:\n",
    "        super().__init__(cosmo, z)\n",
    "\n",
    "    def read_snapshot(self,\n",
    "                      file: BinaryIO,\n",
    "                      ) -> dict[str, np.ndarray[float|int]|int]:\n",
    "        # number of bytes for the total number of particles\n",
    "        struct.unpack('<i', file.read(4))\n",
    "        # total number of particles in the cube c\n",
    "        N_part_tot = struct.unpack('<i', file.read(4))[0]\n",
    "        # number of bytes of procid, the identity of the binary file\n",
    "        struct.unpack('<i', file.read(4))\n",
    "        # procid, the identity of the binary file\n",
    "        struct.unpack('<i', file.read(4))[0]\n",
    "        # number of bytes of the boundaries for the position\n",
    "        struct.unpack('<iii', file.read(4*3))\n",
    "        # boundaries for the position in box=1 unit\n",
    "        struct.unpack('<'+str(6)+'f', file.read(4*6))\n",
    "        struct.unpack('<ii', file.read(8))  # number of bytes for the position\n",
    "        # positions of all particles in the file, it lies between [0,1] (box unit)\n",
    "        pos_cube = struct.unpack(\n",
    "            '<'+str(N_part_tot*3)+'f', file.read(4*3*N_part_tot))\n",
    "        # number of bytes for the velocities\n",
    "        struct.unpack('<ii', file.read(8))\n",
    "        # velocities of all particles in the file, in simu unit\n",
    "        vel_cube = struct.unpack(\n",
    "            '<'+str(N_part_tot*3)+'f', file.read(4*3*N_part_tot))\n",
    "        # number of bytes for the identities\n",
    "        struct.unpack('<ii', file.read(8))\n",
    "        # identities of all particles in the file, integers between[1,N_tot_simu]\n",
    "        ide_cube = struct.unpack(\n",
    "            '<'+str(N_part_tot)+'q', file.read(8*N_part_tot))\n",
    "        return {\"particles_positions\": np.reshape(np.array(pos_cube),(N_part_tot, 3)) * self.L_BOX,\n",
    "                \"particles_velocities\": np.reshape(np.array(vel_cube),(N_part_tot, 3)) * self.V_REN,\n",
    "                \"particles_identities\": np.array(ide_cube, dtype=np.int64),\n",
    "                \"N_particles\": N_part_tot,\n",
    "        }\n",
    "\n",
    "\n",
    "read_sn = Read_snapshot(cosmo=\"rpcdm\", z=0)\n",
    "file = open(path_cube+name_file+'_' +\n",
    "            str('{:d}'.format(num).zfill(5))+\"\", \"rb\")\n",
    "cube_content = read_sn.read_snapshot(file)"
   ]
  },
  {
   "cell_type": "code",
   "execution_count": 24,
   "metadata": {},
   "outputs": [],
   "source": [
    "# step 0 ideally, you should open the snapshot file once and for all needed halo\n",
    "# most efficient: do this when only 1 snapshot is needed\n",
    "# otherwise, loop on halo as it is more complex to do\n",
    "# step 1 check cdm issue\n",
    "# step 2 loop on all snapshot files needed\n",
    "# step 3 check number of 0 => only needed because I don't use append\n",
    "# step 4 cdm periodicty change\n",
    "# step 5 select particles in cube\n",
    "# step 6 check if you find particles in the snapshot file\n",
    "# step 8 cdm periodicty change again ?\n",
    "# check periodicty\n",
    "# halo selection (spherical, but can try something else aswell)\n",
    "# store mass, radius of halo\n",
    "# compute other quantities (concentration, sphericity, virial ratio and shift, \n",
    "# subhalo mass ratio, MF v0, sparsity)"
   ]
  },
  {
   "cell_type": "code",
   "execution_count": 25,
   "metadata": {},
   "outputs": [],
   "source": [
    "# take halo_cube from the method check_halo_in_which_cube and take all halos\n",
    "# with both the three i_x, i_y and i_z ==0. It corresponds to the halos \n",
    "# that are only in 1 snapshot file because they are far from their boundaries.\n",
    "# It should be 99% of all the halos (to check => done, it is 99.9%)\n",
    "# then for those 99% halos, compute all their num, and sort these halos by their num.\n",
    "# For each identical num, one can open 1 time the snapshot file, and close it 1 time \n",
    "# when all halos with this identical num have been treated. Then one can continue with \n",
    "# the next identical num. \n",
    "# When one finished to proceed with all identical num, all the 99% halos have been treated.\n",
    "# Then one can proceed with the remaining 1% of halos, by doing the loop on the remaining 1% halo\n",
    "# opening and closing the snapshot files for each halo.\n"
   ]
  },
  {
   "cell_type": "code",
   "execution_count": 2,
   "metadata": {},
   "outputs": [
    {
     "name": "stdout",
     "output_type": "stream",
     "text": [
      "dim = 1\n",
      "dim = 2\n",
      "dim = 3\n"
     ]
    }
   ],
   "source": [
    "path = \"../data/z_0/rpcdm/halos_position/halos_position/\"\n",
    "file_name = \"../halo_properties/halo_pos.dat\"\n",
    "halo = pd.read_csv(path + file_name)\n",
    "cdm = halo[[\"x (Mpc/h)\", \"y (Mpc/h)\", \"z (Mpc/h)\"]].values\n",
    "N_FOF_all = halo[\"halo N_part\"].values\n",
    "\n",
    "# instantiate my object\n",
    "find_halo = Find_halo_in_snapshot(cosmo=\"rpcdm\", z=0, N_cubes=512, n_dim=3)\n",
    "\n",
    "# estimate Rvir then Rlim\n",
    "Rvir = np.power(N_FOF_all * 3/(4 * np.pi *\n",
    "                find_halo.RHO_VIR_BRIAN_NORMAN), 1/find_halo.n_dim)\n",
    "factor = 5\n",
    "Rlim = factor * Rvir\n",
    "\n",
    "# first characterization of halo\n",
    "halo_cube = find_halo.check_halo_in_which_cube(cdm=cdm,\n",
    "                                                Rlim=Rlim)"
   ]
  },
  {
   "cell_type": "code",
   "execution_count": 3,
   "metadata": {},
   "outputs": [
    {
     "data": {
      "text/plain": [
       "8"
      ]
     },
     "execution_count": 3,
     "metadata": {},
     "output_type": "execute_result"
    }
   ],
   "source": [
    "find_halo.N_cubes_1D"
   ]
  },
  {
   "cell_type": "code",
   "execution_count": 4,
   "metadata": {},
   "outputs": [
    {
     "data": {
      "text/plain": [
       "(numpy.ndarray, (3066884, 7))"
      ]
     },
     "execution_count": 4,
     "metadata": {},
     "output_type": "execute_result"
    }
   ],
   "source": [
    "type(halo_cube), halo_cube.shape"
   ]
  },
  {
   "cell_type": "code",
   "execution_count": 5,
   "metadata": {},
   "outputs": [
    {
     "data": {
      "text/plain": [
       "(3066884, 3)"
      ]
     },
     "execution_count": 5,
     "metadata": {},
     "output_type": "execute_result"
    }
   ],
   "source": [
    "halo_cube[:,4:].shape"
   ]
  },
  {
   "cell_type": "code",
   "execution_count": 6,
   "metadata": {},
   "outputs": [
    {
     "data": {
      "text/plain": [
       "(3066355, 3066884, 0.9998275122241337, 529)"
      ]
     },
     "execution_count": 6,
     "metadata": {},
     "output_type": "execute_result"
    }
   ],
   "source": [
    "ind_1_file = np.where((halo_cube[:,4]==0) & (halo_cube[:,5]==0) & (halo_cube[:,6]==0))[0]\n",
    "len(ind_1_file), len(halo_cube), len(ind_1_file)/len(halo_cube), len(halo_cube) - len(ind_1_file)"
   ]
  },
  {
   "cell_type": "code",
   "execution_count": 7,
   "metadata": {},
   "outputs": [
    {
     "data": {
      "text/plain": [
       "8"
      ]
     },
     "execution_count": 7,
     "metadata": {},
     "output_type": "execute_result"
    }
   ],
   "source": [
    "find_halo.N_cubes_1D"
   ]
  },
  {
   "cell_type": "code",
   "execution_count": 14,
   "metadata": {},
   "outputs": [
    {
     "data": {
      "text/plain": [
       "array([  0,   0,   7, ..., 448, 448, 448])"
      ]
     },
     "execution_count": 14,
     "metadata": {},
     "output_type": "execute_result"
    }
   ],
   "source": [
    "halo_cube_1_file = halo_cube[ind_1_file]\n",
    "num = halo_cube_1_file[:,1] * find_halo.N_cubes_1D**2\n",
    "num += halo_cube_1_file[:,2] * find_halo.N_cubes_1D\n",
    "num += halo_cube_1_file[:,3]\n",
    "num"
   ]
  },
  {
   "cell_type": "code",
   "execution_count": 15,
   "metadata": {},
   "outputs": [
    {
     "name": "stdout",
     "output_type": "stream",
     "text": [
      "(3066355, 7)\n",
      "(3066355,) (3066355, 1)\n"
     ]
    },
    {
     "data": {
      "text/plain": [
       "(3066355, 8)"
      ]
     },
     "execution_count": 15,
     "metadata": {},
     "output_type": "execute_result"
    }
   ],
   "source": [
    "print(halo_cube_1_file.shape)\n",
    "print(num.shape, num.reshape((len(num),1)).shape)\n",
    "halo_cube_1_file = np.append(halo_cube_1_file, num.reshape((len(num),1)), axis=1)\n",
    "halo_cube_1_file.shape"
   ]
  },
  {
   "cell_type": "code",
   "execution_count": 20,
   "metadata": {},
   "outputs": [
    {
     "name": "stdout",
     "output_type": "stream",
     "text": [
      "[False False False ... False False False]\n",
      "[[ 995895       7       7 ...       0       0     511]\n",
      " [ 996107       7       7 ...       0       0     511]\n",
      " [ 996113       7       7 ...       0       0     511]\n",
      " ...\n",
      " [2537320       7       7 ...       0       0     511]\n",
      " [2537353       7       7 ...       0       0     511]\n",
      " [2537372       7       7 ...       0       0     511]] (6030, 8)\n"
     ]
    }
   ],
   "source": [
    "num_unique = np.unique(halo_cube_1_file[:,-1])\n",
    "len(num_unique)\n",
    "for num_un in num_unique:\n",
    "    ind_num = (halo_cube_1_file[:,-1] == num_un)\n",
    "    halo_cube_use = halo_cube_1_file[ind_num]\n",
    "print(ind_num)\n",
    "print(halo_cube_use, halo_cube_use.shape)"
   ]
  },
  {
   "cell_type": "code",
   "execution_count": 10,
   "metadata": {},
   "outputs": [
    {
     "name": "stdout",
     "output_type": "stream",
     "text": [
      "511\n"
     ]
    }
   ],
   "source": [
    "print(num.max())"
   ]
  },
  {
   "cell_type": "code",
   "execution_count": 9,
   "metadata": {},
   "outputs": [
    {
     "data": {
      "image/png": "[encoded data removed]",
      "text/plain": [
       "<Figure size 640x480 with 1 Axes>"
      ]
     },
     "metadata": {},
     "output_type": "display_data"
    }
   ],
   "source": [
    "plt.hist(num, 30)\n",
    "plt.show()"
   ]
  },
  {
   "cell_type": "code",
   "execution_count": 19,
   "metadata": {},
   "outputs": [
    {
     "data": {
      "text/plain": [
       "13180312"
      ]
     },
     "execution_count": 19,
     "metadata": {},
     "output_type": "execute_result"
    }
   ],
   "source": [
    "cube_content[\"N_particles\"]"
   ]
  },
  {
   "cell_type": "code",
   "execution_count": 23,
   "metadata": {},
   "outputs": [
    {
     "data": {
      "text/plain": [
       "8.589934586"
      ]
     },
     "execution_count": 23,
     "metadata": {},
     "output_type": "execute_result"
    }
   ],
   "source": [
    "cube_content[\"particles_identities\"].max()/10**9"
   ]
  },
  {
   "cell_type": "code",
   "execution_count": 12,
   "metadata": {},
   "outputs": [
    {
     "data": {
      "text/plain": [
       "((13180312, 3), (13180312, 3))"
      ]
     },
     "execution_count": 12,
     "metadata": {},
     "output_type": "execute_result"
    }
   ],
   "source": [
    "cube_content[\"particles_positions\"].shape, cube_content[\"particles_velocities\"].shape"
   ]
  },
  {
   "cell_type": "code",
   "execution_count": 13,
   "metadata": {},
   "outputs": [
    {
     "data": {
      "text/plain": [
       "(13180312,)"
      ]
     },
     "execution_count": 13,
     "metadata": {},
     "output_type": "execute_result"
    }
   ],
   "source": [
    "cube_content[\"particles_identities\"].shape"
   ]
  },
  {
   "cell_type": "code",
   "execution_count": 15,
   "metadata": {},
   "outputs": [
    {
     "data": {
      "text/plain": [
       "array([40.81083565, 43.00759467, 42.60272111])"
      ]
     },
     "execution_count": 15,
     "metadata": {},
     "output_type": "execute_result"
    }
   ],
   "source": [
    "np.mean(cube_content[\"particles_positions\"], axis=0)"
   ]
  },
  {
   "cell_type": "code",
   "execution_count": 17,
   "metadata": {},
   "outputs": [
    {
     "data": {
      "text/plain": [
       "array([219.74689003, 179.66203264, 120.62877433])"
      ]
     },
     "execution_count": 17,
     "metadata": {},
     "output_type": "execute_result"
    }
   ],
   "source": [
    "np.mean(np.abs(cube_content[\"particles_velocities\"]), axis=0)"
   ]
  },
  {
   "cell_type": "code",
   "execution_count": null,
   "metadata": {},
   "outputs": [],
   "source": []
  }
 ],
 "metadata": {
  "kernelspec": {
   "display_name": "cosmo_deus",
   "language": "python",
   "name": "python3"
  },
  "language_info": {
   "codemirror_mode": {
    "name": "ipython",
    "version": 3
   },
   "file_extension": ".py",
   "mimetype": "text/x-python",
   "name": "python",
   "nbconvert_exporter": "python",
   "pygments_lexer": "ipython3",
   "version": "3.10.9"
  },
  "orig_nbformat": 4
 },
 "nbformat": 4,
 "nbformat_minor": 2
}
