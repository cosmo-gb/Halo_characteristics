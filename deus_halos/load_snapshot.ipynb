{
 "cells": [
  {
   "cell_type": "code",
   "execution_count": 13,
   "metadata": {},
   "outputs": [],
   "source": [
    "import numpy as np\n",
    "import pandas as pd\n",
    "import struct\n",
    "from typing import BinaryIO"
   ]
  },
  {
   "cell_type": "code",
   "execution_count": 5,
   "metadata": {},
   "outputs": [],
   "source": [
    "path_cube = \"../data/z_0/rpcdm/snapshot/\"\n",
    "name_file = \"fof_boxlen648_n2048_rpcdmw7_cube\"\n",
    "num = 0"
   ]
  },
  {
   "cell_type": "code",
   "execution_count": 23,
   "metadata": {},
   "outputs": [],
   "source": [
    "file = open(path_cube+name_file+'_' +\n",
    "            str('{:d}'.format(num).zfill(5))+\"\", \"rb\")"
   ]
  },
  {
   "cell_type": "code",
   "execution_count": 24,
   "metadata": {},
   "outputs": [],
   "source": [
    "def read_snapshot(file: BinaryIO,\n",
    "                  ) -> dict[str, np.ndarray[float|int]|int]:\n",
    "    # number of bytes for the total number of particles\n",
    "    struct.unpack('<i', file.read(4))\n",
    "    # total number of particles in the cube c\n",
    "    N_part_tot = struct.unpack('<i', file.read(4))[0]\n",
    "    # number of bytes of procid, the identity of the binary file\n",
    "    struct.unpack('<i', file.read(4))\n",
    "    # procid, the identity of the binary file\n",
    "    struct.unpack('<i', file.read(4))[0]\n",
    "    # number of bytes of the boundaries for the position\n",
    "    struct.unpack('<iii', file.read(4*3))\n",
    "    # boundaries for the position in box=1 unit\n",
    "    struct.unpack('<'+str(6)+'f', file.read(4*6))\n",
    "    struct.unpack('<ii', file.read(8))  # number of bytes for the position\n",
    "    # positions of all particles in the file, it lies between [0,1] (box unit)\n",
    "    pos_cube = struct.unpack(\n",
    "        '<'+str(N_part_tot*3)+'f', file.read(4*3*N_part_tot))\n",
    "    # number of bytes for the velocities\n",
    "    struct.unpack('<ii', file.read(8))\n",
    "    # velocities of all particles in the file, in simu unit\n",
    "    vel_cube = struct.unpack(\n",
    "        '<'+str(N_part_tot*3)+'f', file.read(4*3*N_part_tot))\n",
    "    # number of bytes for the identities\n",
    "    struct.unpack('<ii', file.read(8))\n",
    "    # identities of all particles in the file, integers between[1,N_tot_simu]\n",
    "    ide_cube = struct.unpack(\n",
    "        '<'+str(N_part_tot)+'q', file.read(8*N_part_tot))\n",
    "    return {\"particles_positions\": np.reshape(np.array(pos_cube),(N_part_tot, 3)),\n",
    "            \"particles_velocities\": np.reshape(np.array(vel_cube),(N_part_tot, 3)),\n",
    "            \"particles_identities\": np.array(ide_cube),\n",
    "            \"N_particles\": N_part_tot,\n",
    "    }\n",
    "\n",
    "cube_content = read_snapshot(file)"
   ]
  },
  {
   "cell_type": "code",
   "execution_count": 25,
   "metadata": {},
   "outputs": [
    {
     "data": {
      "text/plain": [
       "13180312"
      ]
     },
     "execution_count": 25,
     "metadata": {},
     "output_type": "execute_result"
    }
   ],
   "source": [
    "cube_content[\"N_particles\"]"
   ]
  },
  {
   "cell_type": "code",
   "execution_count": 26,
   "metadata": {},
   "outputs": [
    {
     "data": {
      "text/plain": [
       "((13180312, 3), (13180312, 3))"
      ]
     },
     "execution_count": 26,
     "metadata": {},
     "output_type": "execute_result"
    }
   ],
   "source": [
    "cube_content[\"particles_positions\"].shape, cube_content[\"particles_velocities\"].shape"
   ]
  },
  {
   "cell_type": "code",
   "execution_count": 27,
   "metadata": {},
   "outputs": [
    {
     "data": {
      "text/plain": [
       "(13180312,)"
      ]
     },
     "execution_count": 27,
     "metadata": {},
     "output_type": "execute_result"
    }
   ],
   "source": [
    "cube_content[\"particles_identities\"].shape"
   ]
  },
  {
   "cell_type": "code",
   "execution_count": null,
   "metadata": {},
   "outputs": [],
   "source": []
  }
 ],
 "metadata": {
  "kernelspec": {
   "display_name": "cosmo_deus",
   "language": "python",
   "name": "python3"
  },
  "language_info": {
   "codemirror_mode": {
    "name": "ipython",
    "version": 3
   },
   "file_extension": ".py",
   "mimetype": "text/x-python",
   "name": "python",
   "nbconvert_exporter": "python",
   "pygments_lexer": "ipython3",
   "version": "3.10.9"
  },
  "orig_nbformat": 4
 },
 "nbformat": 4,
 "nbformat_minor": 2
}
