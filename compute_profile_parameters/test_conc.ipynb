{
 "cells": [
  {
   "cell_type": "code",
   "execution_count": 2,
   "metadata": {},
   "outputs": [
    {
     "ename": "ImportError",
     "evalue": "attempted relative import with no known parent package",
     "output_type": "error",
     "traceback": [
      "\u001b[0;31m---------------------------------------------------------------------------\u001b[0m",
      "\u001b[0;31mImportError\u001b[0m                               Traceback (most recent call last)",
      "Cell \u001b[0;32mIn[2], line 1\u001b[0m\n\u001b[0;32m----> 1\u001b[0m \u001b[39mfrom\u001b[39;00m \u001b[39m.\u001b[39;00m\u001b[39msemi_analytical_halos\u001b[39;00m \u001b[39mimport\u001b[39;00m SMH \u001b[39mas\u001b[39;00m Smooth_halo\n",
      "\u001b[0;31mImportError\u001b[0m: attempted relative import with no known parent package"
     ]
    }
   ],
   "source": [
    "from .semi_analytical_halos import SMH as Smooth_halo"
   ]
  },
  {
   "cell_type": "code",
   "execution_count": 4,
   "metadata": {},
   "outputs": [
    {
     "ename": "ImportError",
     "evalue": "attempted relative import with no known parent package",
     "output_type": "error",
     "traceback": [
      "\u001b[0;31m---------------------------------------------------------------------------\u001b[0m",
      "\u001b[0;31mImportError\u001b[0m                               Traceback (most recent call last)",
      "Cell \u001b[0;32mIn[4], line 1\u001b[0m\n\u001b[0;32m----> 1\u001b[0m \u001b[39mfrom\u001b[39;00m \u001b[39m.\u001b[39;00m\u001b[39m.\u001b[39;00m\u001b[39msemi_analytical_halos\u001b[39;00m\u001b[39m.\u001b[39;00m\u001b[39mgenerate_smooth_halo\u001b[39;00m \u001b[39mimport\u001b[39;00m Smooth_halo\n",
      "\u001b[0;31mImportError\u001b[0m: attempted relative import with no known parent package"
     ]
    }
   ],
   "source": [
    "from ..semi_analytical_halos.generate_smooth_halo import Smooth_halo"
   ]
  },
  {
   "cell_type": "code",
   "execution_count": 5,
   "metadata": {},
   "outputs": [
    {
     "name": "stdout",
     "output_type": "stream",
     "text": [
      "hello\n"
     ]
    }
   ],
   "source": [
    "print('hello')"
   ]
  },
  {
   "cell_type": "code",
   "execution_count": null,
   "metadata": {},
   "outputs": [
    {
     "ename": "NameError",
     "evalue": "name 'Smooth_halo' is not defined",
     "output_type": "error",
     "traceback": [
      "\u001b[0;31m---------------------------------------------------------------------------\u001b[0m",
      "\u001b[0;31mNameError\u001b[0m                                 Traceback (most recent call last)",
      "Cell \u001b[0;32mIn[2], line 1\u001b[0m\n\u001b[0;32m----> 1\u001b[0m halo \u001b[39m=\u001b[39m Smooth_halo()\n\u001b[1;32m      2\u001b[0m kind_profile \u001b[39m=\u001b[39m {\u001b[39m\"\u001b[39m\u001b[39mkind of profile\u001b[39m\u001b[39m\"\u001b[39m: \u001b[39m\"\u001b[39m\u001b[39mabg\u001b[39m\u001b[39m\"\u001b[39m,\n\u001b[1;32m      3\u001b[0m                 \u001b[39m\"\u001b[39m\u001b[39mconcentration\u001b[39m\u001b[39m\"\u001b[39m: \u001b[39m10\u001b[39m,\n\u001b[1;32m      4\u001b[0m                 \u001b[39m\"\u001b[39m\u001b[39malpha\u001b[39m\u001b[39m\"\u001b[39m: \u001b[39m1\u001b[39m, \u001b[39m\"\u001b[39m\u001b[39mbeta\u001b[39m\u001b[39m\"\u001b[39m: \u001b[39m3\u001b[39m, \u001b[39m\"\u001b[39m\u001b[39mgamma\u001b[39m\u001b[39m\"\u001b[39m: \u001b[39m1\u001b[39m}\n\u001b[1;32m      5\u001b[0m my_halo \u001b[39m=\u001b[39m halo\u001b[39m.\u001b[39msmooth_halo_creation() \u001b[39m#kind_profile, b_ax=0.5, c_ax=0.5)\u001b[39;00m\n",
      "\u001b[0;31mNameError\u001b[0m: name 'Smooth_halo' is not defined"
     ]
    }
   ],
   "source": [
    "halo = Smooth_halo()\n",
    "kind_profile = {\"kind of profile\": \"abg\",\n",
    "                \"concentration\": 10,\n",
    "                \"alpha\": 1, \"beta\": 3, \"gamma\": 1}\n",
    "my_halo = halo.smooth_halo_creation() #kind_profile, b_ax=0.5, c_ax=0.5)\n",
    "data = my_halo[\"data\"]\n",
    "print(\"N_tot =\",my_halo[\"N_tot\"])\n",
    "#halo.plot_data(data[:,0],data[:,1])\n",
    "halo.beauty_plot_colorbar(data)"
   ]
  },
  {
   "cell_type": "code",
   "execution_count": null,
   "metadata": {},
   "outputs": [],
   "source": []
  }
 ],
 "metadata": {
  "kernelspec": {
   "display_name": "Python 3",
   "language": "python",
   "name": "python3"
  },
  "language_info": {
   "codemirror_mode": {
    "name": "ipython",
    "version": 3
   },
   "file_extension": ".py",
   "mimetype": "text/x-python",
   "name": "python",
   "nbconvert_exporter": "python",
   "pygments_lexer": "ipython3",
   "version": "3.10.9"
  },
  "orig_nbformat": 4
 },
 "nbformat": 4,
 "nbformat_minor": 2
}
