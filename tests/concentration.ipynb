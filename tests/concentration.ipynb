{
 "cells": [
  {
   "cell_type": "code",
   "execution_count": 4,
   "metadata": {},
   "outputs": [
    {
     "ename": "ModuleNotFoundError",
     "evalue": "No module named 'semi_analytical_halos'",
     "output_type": "error",
     "traceback": [
      "\u001b[0;31m---------------------------------------------------------------------------\u001b[0m",
      "\u001b[0;31mModuleNotFoundError\u001b[0m                       Traceback (most recent call last)",
      "Cell \u001b[0;32mIn[4], line 1\u001b[0m\n\u001b[0;32m----> 1\u001b[0m \u001b[39mfrom\u001b[39;00m \u001b[39msemi_analytical_halos\u001b[39;00m\u001b[39m.\u001b[39;00m\u001b[39mgenerate_smooth_halo\u001b[39;00m \u001b[39mimport\u001b[39;00m Smooth_halo\n",
      "\u001b[0;31mModuleNotFoundError\u001b[0m: No module named 'semi_analytical_halos'"
     ]
    }
   ],
   "source": [
    "from semi_analytical_halos.generate_smooth_halo import Smooth_halo"
   ]
  }
 ],
 "metadata": {
  "kernelspec": {
   "display_name": "cosmo_deus",
   "language": "python",
   "name": "python3"
  },
  "language_info": {
   "codemirror_mode": {
    "name": "ipython",
    "version": 3
   },
   "file_extension": ".py",
   "mimetype": "text/x-python",
   "name": "python",
   "nbconvert_exporter": "python",
   "pygments_lexer": "ipython3",
   "version": "3.10.9"
  },
  "orig_nbformat": 4
 },
 "nbformat": 4,
 "nbformat_minor": 2
}
